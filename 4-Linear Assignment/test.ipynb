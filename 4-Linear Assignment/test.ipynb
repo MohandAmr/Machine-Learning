{
 "cells": [
  {
   "cell_type": "code",
   "execution_count": 1,
   "metadata": {},
   "outputs": [],
   "source": [
    "import numpy as np\n",
    "import pandas as pd \n",
    "import matplotlib.pyplot as plt\n",
    "import missingno as msno\n",
    "from sklearn.model_selection import train_test_split\n",
    "import matplotlib.pyplot as plt\n",
    "from sklearn.metrics import r2_score\n"
   ]
  },
  {
   "cell_type": "code",
   "execution_count": 2,
   "metadata": {},
   "outputs": [
    {
     "data": {
      "text/plain": [
       "(1000,)"
      ]
     },
     "execution_count": 2,
     "metadata": {},
     "output_type": "execute_result"
    }
   ],
   "source": [
    "x_1 = np.random.randint(0,1000,1000)\n",
    "x_2 = np.random.randint(0,1000,1000)\n",
    "x_3 = np.random.randint(0,1000,1000)\n",
    "\n",
    "y = 5*x_1 + 3*x_2 + 1.5*x_3 + 6\n",
    "y.shape"
   ]
  },
  {
   "cell_type": "code",
   "execution_count": 3,
   "metadata": {},
   "outputs": [
    {
     "data": {
      "text/plain": [
       "(1000, 3)"
      ]
     },
     "execution_count": 3,
     "metadata": {},
     "output_type": "execute_result"
    }
   ],
   "source": [
    "x=np.transpose((x_1, x_2,x_3))\n",
    "x.shape"
   ]
  },
  {
   "cell_type": "code",
   "execution_count": 4,
   "metadata": {},
   "outputs": [],
   "source": [
    "X_train, X_test, y_train, y_test = train_test_split(x, y, test_size=0.3,random_state=42)\n"
   ]
  },
  {
   "cell_type": "code",
   "execution_count": 5,
   "metadata": {},
   "outputs": [
    {
     "data": {
      "image/png": "[encoded data removed]",
      "text/plain": [
       "<Figure size 432x288 with 1 Axes>"
      ]
     },
     "metadata": {
      "needs_background": "light"
     },
     "output_type": "display_data"
    }
   ],
   "source": [
    "plt.scatter(x[:,:1],y)\n",
    "plt.xlabel(\"x_1\")\n",
    "plt.ylabel(\"y\")\n",
    "plt.show()"
   ]
  },
  {
   "cell_type": "code",
   "execution_count": 6,
   "metadata": {},
   "outputs": [
    {
     "name": "stdout",
     "output_type": "stream",
     "text": [
      "Final weights:  [5.00392379 2.99624905 1.59642308]\n"
     ]
    }
   ],
   "source": [
    "\n",
    "x_mean = np.mean(x)\n",
    "y_mean = np.mean(y)\n",
    "\n",
    "num = 0\n",
    "den = 0\n",
    "for i in range(len(x)):\n",
    "  num+=(x[i]- x_mean)*(y[i]- y_mean)\n",
    "  den+=(x[i]- x_mean)**2\n",
    "m = num/den\n",
    "c = y_mean - m*x_mean\n",
    "print(\"Final weights: \",m)"
   ]
  },
  {
   "cell_type": "code",
   "execution_count": 7,
   "metadata": {},
   "outputs": [
    {
     "name": "stdout",
     "output_type": "stream",
     "text": [
      "score= 0.999 %\n",
      "error= 0.0008742535140224827\n"
     ]
    }
   ],
   "source": [
    "y_pred = X_test.dot(m)\n",
    "score = r2_score(y_test, y_pred)\n",
    "error = 1-score\n",
    "print(\"score= {} %\".format( round(score, 3)))\n",
    "print(\"error=\", error)"
   ]
  },
  {
   "cell_type": "code",
   "execution_count": 9,
   "metadata": {},
   "outputs": [
    {
     "data": {
      "text/html": [
       "<div>\n",
       "<style scoped>\n",
       "    .dataframe tbody tr th:only-of-type {\n",
       "        vertical-align: middle;\n",
       "    }\n",
       "\n",
       "    .dataframe tbody tr th {\n",
       "        vertical-align: top;\n",
       "    }\n",
       "\n",
       "    .dataframe thead th {\n",
       "        text-align: right;\n",
       "    }\n",
       "</style>\n",
       "<table border=\"1\" class=\"dataframe\">\n",
       "  <thead>\n",
       "    <tr style=\"text-align: right;\">\n",
       "      <th></th>\n",
       "      <th>Avg. Area Income</th>\n",
       "      <th>Avg. Area House Age</th>\n",
       "      <th>Avg. Area Number of Rooms</th>\n",
       "      <th>Avg. Area Number of Bedrooms</th>\n",
       "      <th>Area Population</th>\n",
       "      <th>Price</th>\n",
       "    </tr>\n",
       "  </thead>\n",
       "  <tbody>\n",
       "    <tr>\n",
       "      <th>0</th>\n",
       "      <td>79545.45857</td>\n",
       "      <td>5.682861</td>\n",
       "      <td>7.009188</td>\n",
       "      <td>4.09</td>\n",
       "      <td>23086.80050</td>\n",
       "      <td>1.059034e+06</td>\n",
       "    </tr>\n",
       "    <tr>\n",
       "      <th>1</th>\n",
       "      <td>79248.64245</td>\n",
       "      <td>6.002900</td>\n",
       "      <td>6.730821</td>\n",
       "      <td>3.09</td>\n",
       "      <td>40173.07217</td>\n",
       "      <td>1.505891e+06</td>\n",
       "    </tr>\n",
       "    <tr>\n",
       "      <th>2</th>\n",
       "      <td>61287.06718</td>\n",
       "      <td>5.865890</td>\n",
       "      <td>8.512727</td>\n",
       "      <td>5.13</td>\n",
       "      <td>36882.15940</td>\n",
       "      <td>1.058988e+06</td>\n",
       "    </tr>\n",
       "    <tr>\n",
       "      <th>3</th>\n",
       "      <td>63345.24005</td>\n",
       "      <td>7.188236</td>\n",
       "      <td>5.586729</td>\n",
       "      <td>3.26</td>\n",
       "      <td>34310.24283</td>\n",
       "      <td>1.260617e+06</td>\n",
       "    </tr>\n",
       "    <tr>\n",
       "      <th>4</th>\n",
       "      <td>59982.19723</td>\n",
       "      <td>5.040555</td>\n",
       "      <td>7.839388</td>\n",
       "      <td>4.23</td>\n",
       "      <td>26354.10947</td>\n",
       "      <td>6.309435e+05</td>\n",
       "    </tr>\n",
       "  </tbody>\n",
       "</table>\n",
       "</div>"
      ],
      "text/plain": [
       "   Avg. Area Income  Avg. Area House Age  Avg. Area Number of Rooms  \\\n",
       "0       79545.45857             5.682861                   7.009188   \n",
       "1       79248.64245             6.002900                   6.730821   \n",
       "2       61287.06718             5.865890                   8.512727   \n",
       "3       63345.24005             7.188236                   5.586729   \n",
       "4       59982.19723             5.040555                   7.839388   \n",
       "\n",
       "   Avg. Area Number of Bedrooms  Area Population         Price  \n",
       "0                          4.09      23086.80050  1.059034e+06  \n",
       "1                          3.09      40173.07217  1.505891e+06  \n",
       "2                          5.13      36882.15940  1.058988e+06  \n",
       "3                          3.26      34310.24283  1.260617e+06  \n",
       "4                          4.23      26354.10947  6.309435e+05  "
      ]
     },
     "execution_count": 9,
     "metadata": {},
     "output_type": "execute_result"
    }
   ],
   "source": [
    "data2 = pd.read_csv(\"https://raw.githubusercontent.com/MohandAmr/Machine-Learning/main/4-Linear%20Assignment/USA_Housing.csv\")\n",
    "data2.drop(columns=\"Address\",inplace=True)\n",
    "data2.head()\n"
   ]
  },
  {
   "cell_type": "code",
   "execution_count": 10,
   "metadata": {},
   "outputs": [
    {
     "data": {
      "text/plain": [
       "<AxesSubplot: >"
      ]
     },
     "execution_count": 10,
     "metadata": {},
     "output_type": "execute_result"
    },
    {
     "data": {
      "image/png": "[encoded data removed]",
      "text/plain": [
       "<Figure size 1800x720 with 2 Axes>"
      ]
     },
     "metadata": {
      "needs_background": "light"
     },
     "output_type": "display_data"
    }
   ],
   "source": [
    "msno.matrix(data2)"
   ]
  },
  {
   "cell_type": "code",
   "execution_count": 11,
   "metadata": {},
   "outputs": [
    {
     "data": {
      "text/html": [
       "<style type=\"text/css\">\n",
       "#T_8891c_row0_col0, #T_8891c_row1_col0, #T_8891c_row2_col0, #T_8891c_row3_col0, #T_8891c_row3_col1, #T_8891c_row3_col2, #T_8891c_row3_col3, #T_8891c_row3_col4, #T_8891c_row3_col5, #T_8891c_row3_col6, #T_8891c_row3_col7, #T_8891c_row4_col0, #T_8891c_row4_col1, #T_8891c_row4_col2, #T_8891c_row4_col3, #T_8891c_row4_col4, #T_8891c_row4_col5, #T_8891c_row4_col6, #T_8891c_row4_col7, #T_8891c_row5_col0, #T_8891c_row5_col1, #T_8891c_row5_col2, #T_8891c_row5_col3, #T_8891c_row5_col4, #T_8891c_row5_col5, #T_8891c_row5_col6, #T_8891c_row5_col7 {\n",
       "  background-color: #000080;\n",
       "  color: #f1f1f1;\n",
       "}\n",
       "#T_8891c_row0_col1, #T_8891c_row0_col2, #T_8891c_row0_col4, #T_8891c_row0_col5, #T_8891c_row0_col6, #T_8891c_row0_col7, #T_8891c_row1_col3 {\n",
       "  background-color: #800000;\n",
       "  color: #f1f1f1;\n",
       "}\n",
       "#T_8891c_row0_col3 {\n",
       "  background-color: #f60b00;\n",
       "  color: #f1f1f1;\n",
       "}\n",
       "#T_8891c_row1_col1, #T_8891c_row1_col5 {\n",
       "  background-color: #0000bf;\n",
       "  color: #f1f1f1;\n",
       "}\n",
       "#T_8891c_row1_col2, #T_8891c_row2_col1, #T_8891c_row2_col2, #T_8891c_row2_col4, #T_8891c_row2_col5, #T_8891c_row2_col6, #T_8891c_row2_col7 {\n",
       "  background-color: #00009f;\n",
       "  color: #f1f1f1;\n",
       "}\n",
       "#T_8891c_row1_col4 {\n",
       "  background-color: #0000c4;\n",
       "  color: #f1f1f1;\n",
       "}\n",
       "#T_8891c_row1_col6 {\n",
       "  background-color: #0000bb;\n",
       "  color: #f1f1f1;\n",
       "}\n",
       "#T_8891c_row1_col7 {\n",
       "  background-color: #0000b2;\n",
       "  color: #f1f1f1;\n",
       "}\n",
       "#T_8891c_row2_col3 {\n",
       "  background-color: #000089;\n",
       "  color: #f1f1f1;\n",
       "}\n",
       "</style>\n",
       "<table id=\"T_8891c\">\n",
       "  <thead>\n",
       "    <tr>\n",
       "      <th class=\"blank level0\" >&nbsp;</th>\n",
       "      <th id=\"T_8891c_level0_col0\" class=\"col_heading level0 col0\" >count</th>\n",
       "      <th id=\"T_8891c_level0_col1\" class=\"col_heading level0 col1\" >mean</th>\n",
       "      <th id=\"T_8891c_level0_col2\" class=\"col_heading level0 col2\" >std</th>\n",
       "      <th id=\"T_8891c_level0_col3\" class=\"col_heading level0 col3\" >min</th>\n",
       "      <th id=\"T_8891c_level0_col4\" class=\"col_heading level0 col4\" >25%</th>\n",
       "      <th id=\"T_8891c_level0_col5\" class=\"col_heading level0 col5\" >50%</th>\n",
       "      <th id=\"T_8891c_level0_col6\" class=\"col_heading level0 col6\" >75%</th>\n",
       "      <th id=\"T_8891c_level0_col7\" class=\"col_heading level0 col7\" >max</th>\n",
       "    </tr>\n",
       "  </thead>\n",
       "  <tbody>\n",
       "    <tr>\n",
       "      <th id=\"T_8891c_level0_row0\" class=\"row_heading level0 row0\" >Price</th>\n",
       "      <td id=\"T_8891c_row0_col0\" class=\"data row0 col0\" >5000.000000</td>\n",
       "      <td id=\"T_8891c_row0_col1\" class=\"data row0 col1\" >1232072.654145</td>\n",
       "      <td id=\"T_8891c_row0_col2\" class=\"data row0 col2\" >353117.626584</td>\n",
       "      <td id=\"T_8891c_row0_col3\" class=\"data row0 col3\" >15938.657920</td>\n",
       "      <td id=\"T_8891c_row0_col4\" class=\"data row0 col4\" >997577.135075</td>\n",
       "      <td id=\"T_8891c_row0_col5\" class=\"data row0 col5\" >1232669.378000</td>\n",
       "      <td id=\"T_8891c_row0_col6\" class=\"data row0 col6\" >1471210.204500</td>\n",
       "      <td id=\"T_8891c_row0_col7\" class=\"data row0 col7\" >2469065.594000</td>\n",
       "    </tr>\n",
       "    <tr>\n",
       "      <th id=\"T_8891c_level0_row1\" class=\"row_heading level0 row1\" >Avg. Area Income</th>\n",
       "      <td id=\"T_8891c_row1_col0\" class=\"data row1 col0\" >5000.000000</td>\n",
       "      <td id=\"T_8891c_row1_col1\" class=\"data row1 col1\" >68583.108984</td>\n",
       "      <td id=\"T_8891c_row1_col2\" class=\"data row1 col2\" >10657.991214</td>\n",
       "      <td id=\"T_8891c_row1_col3\" class=\"data row1 col3\" >17796.631190</td>\n",
       "      <td id=\"T_8891c_row1_col4\" class=\"data row1 col4\" >61480.562390</td>\n",
       "      <td id=\"T_8891c_row1_col5\" class=\"data row1 col5\" >68804.286405</td>\n",
       "      <td id=\"T_8891c_row1_col6\" class=\"data row1 col6\" >75783.338665</td>\n",
       "      <td id=\"T_8891c_row1_col7\" class=\"data row1 col7\" >107701.748400</td>\n",
       "    </tr>\n",
       "    <tr>\n",
       "      <th id=\"T_8891c_level0_row2\" class=\"row_heading level0 row2\" >Area Population</th>\n",
       "      <td id=\"T_8891c_row2_col0\" class=\"data row2 col0\" >5000.000000</td>\n",
       "      <td id=\"T_8891c_row2_col1\" class=\"data row2 col1\" >36163.516039</td>\n",
       "      <td id=\"T_8891c_row2_col2\" class=\"data row2 col2\" >9925.650114</td>\n",
       "      <td id=\"T_8891c_row2_col3\" class=\"data row2 col3\" >172.610686</td>\n",
       "      <td id=\"T_8891c_row2_col4\" class=\"data row2 col4\" >29403.928700</td>\n",
       "      <td id=\"T_8891c_row2_col5\" class=\"data row2 col5\" >36199.406690</td>\n",
       "      <td id=\"T_8891c_row2_col6\" class=\"data row2 col6\" >42861.290770</td>\n",
       "      <td id=\"T_8891c_row2_col7\" class=\"data row2 col7\" >69621.713380</td>\n",
       "    </tr>\n",
       "    <tr>\n",
       "      <th id=\"T_8891c_level0_row3\" class=\"row_heading level0 row3\" >Avg. Area Number of Rooms</th>\n",
       "      <td id=\"T_8891c_row3_col0\" class=\"data row3 col0\" >5000.000000</td>\n",
       "      <td id=\"T_8891c_row3_col1\" class=\"data row3 col1\" >6.987792</td>\n",
       "      <td id=\"T_8891c_row3_col2\" class=\"data row3 col2\" >1.005833</td>\n",
       "      <td id=\"T_8891c_row3_col3\" class=\"data row3 col3\" >3.236194</td>\n",
       "      <td id=\"T_8891c_row3_col4\" class=\"data row3 col4\" >6.299250</td>\n",
       "      <td id=\"T_8891c_row3_col5\" class=\"data row3 col5\" >7.002902</td>\n",
       "      <td id=\"T_8891c_row3_col6\" class=\"data row3 col6\" >7.665871</td>\n",
       "      <td id=\"T_8891c_row3_col7\" class=\"data row3 col7\" >10.759588</td>\n",
       "    </tr>\n",
       "    <tr>\n",
       "      <th id=\"T_8891c_level0_row4\" class=\"row_heading level0 row4\" >Avg. Area House Age</th>\n",
       "      <td id=\"T_8891c_row4_col0\" class=\"data row4 col0\" >5000.000000</td>\n",
       "      <td id=\"T_8891c_row4_col1\" class=\"data row4 col1\" >5.977222</td>\n",
       "      <td id=\"T_8891c_row4_col2\" class=\"data row4 col2\" >0.991456</td>\n",
       "      <td id=\"T_8891c_row4_col3\" class=\"data row4 col3\" >2.644304</td>\n",
       "      <td id=\"T_8891c_row4_col4\" class=\"data row4 col4\" >5.322283</td>\n",
       "      <td id=\"T_8891c_row4_col5\" class=\"data row4 col5\" >5.970429</td>\n",
       "      <td id=\"T_8891c_row4_col6\" class=\"data row4 col6\" >6.650808</td>\n",
       "      <td id=\"T_8891c_row4_col7\" class=\"data row4 col7\" >9.519088</td>\n",
       "    </tr>\n",
       "    <tr>\n",
       "      <th id=\"T_8891c_level0_row5\" class=\"row_heading level0 row5\" >Avg. Area Number of Bedrooms</th>\n",
       "      <td id=\"T_8891c_row5_col0\" class=\"data row5 col0\" >5000.000000</td>\n",
       "      <td id=\"T_8891c_row5_col1\" class=\"data row5 col1\" >3.981330</td>\n",
       "      <td id=\"T_8891c_row5_col2\" class=\"data row5 col2\" >1.234137</td>\n",
       "      <td id=\"T_8891c_row5_col3\" class=\"data row5 col3\" >2.000000</td>\n",
       "      <td id=\"T_8891c_row5_col4\" class=\"data row5 col4\" >3.140000</td>\n",
       "      <td id=\"T_8891c_row5_col5\" class=\"data row5 col5\" >4.050000</td>\n",
       "      <td id=\"T_8891c_row5_col6\" class=\"data row5 col6\" >4.490000</td>\n",
       "      <td id=\"T_8891c_row5_col7\" class=\"data row5 col7\" >6.500000</td>\n",
       "    </tr>\n",
       "  </tbody>\n",
       "</table>\n"
      ],
      "text/plain": [
       "<pandas.io.formats.style.Styler at 0x17dbee47850>"
      ]
     },
     "execution_count": 11,
     "metadata": {},
     "output_type": "execute_result"
    }
   ],
   "source": [
    "data2.describe().T.sort_values(ascending = 0,by = \"mean\").style.background_gradient(cmap = \"jet\")"
   ]
  },
  {
   "cell_type": "code",
   "execution_count": 21,
   "metadata": {},
   "outputs": [],
   "source": [
    "def computeCost(X, y, theta):\n",
    "    inner = np.power(((X * theta.T) - y), 2)\n",
    "    return np.sum(inner) / (2 * len(X))\n"
   ]
  },
  {
   "cell_type": "code",
   "execution_count": 22,
   "metadata": {},
   "outputs": [],
   "source": [
    "def gradientDescent(X, y, theta, alpha, iters):\n",
    "    temp = np.matrix(np.zeros(theta.shape))\n",
    "    parameters = int(theta.ravel().shape[1])\n",
    "    cost = np.zeros(iters)\n",
    "    \n",
    "    for i in range(iters):\n",
    "        error = (X * theta.T) - y\n",
    "        \n",
    "        for j in range(parameters):\n",
    "            term = np.multiply(error, X[:,j])\n",
    "            temp[0,j] = theta[0,j] - ((alpha / len(X)) * np.sum(term))\n",
    "            \n",
    "        theta = temp\n",
    "        cost[i] = computeCost(X, y, theta)\n",
    "        \n",
    "    return theta, cost\n"
   ]
  },
  {
   "cell_type": "code",
   "execution_count": 12,
   "metadata": {},
   "outputs": [
    {
     "data": {
      "text/plain": [
       "Avg. Area Income                1.172396e-17\n",
       "Avg. Area House Age            -2.476241e-16\n",
       "Avg. Area Number of Rooms      -5.087486e-16\n",
       "Avg. Area Number of Bedrooms   -2.110312e-16\n",
       "Area Population                 4.092726e-16\n",
       "Price                           2.202682e-16\n",
       "dtype: float64"
      ]
     },
     "execution_count": 12,
     "metadata": {},
     "output_type": "execute_result"
    }
   ],
   "source": [
    "data2 = (data2 - data2.mean()) / data2.std()\n",
    "data2.mean()"
   ]
  },
  {
   "cell_type": "code",
   "execution_count": 13,
   "metadata": {},
   "outputs": [],
   "source": [
    "data2.insert(0, 'Ones', 1)\n"
   ]
  },
  {
   "cell_type": "code",
   "execution_count": 14,
   "metadata": {},
   "outputs": [
    {
     "name": "stdout",
     "output_type": "stream",
     "text": [
      "X2 data = \n",
      "    Ones  Avg. Area Income  Avg. Area House Age  Avg. Area Number of Rooms  \\\n",
      "0     1          1.028557            -0.296897                   0.021272   \n",
      "1     1          1.000708             0.025899                  -0.255481   \n",
      "2     1         -0.684561            -0.112292                   1.516092   \n",
      "3     1         -0.491450             1.221450                  -1.392938   \n",
      "4     1         -0.806992            -0.944739                   0.846657   \n",
      "5     1          1.087695            -0.997335                  -0.878157   \n",
      "6     1         -0.364482             0.048528                   1.153241   \n",
      "7     1          0.920552             1.021283                  -0.365184   \n",
      "8     1         -0.812109            -0.620397                  -0.591222   \n",
      "9     1          1.248154            -1.566938                   1.173053   \n",
      "\n",
      "   Avg. Area Number of Bedrooms  Area Population  \n",
      "0                      0.088053        -1.317467  \n",
      "1                     -0.722229         0.403959  \n",
      "2                      0.930747         0.072403  \n",
      "3                     -0.584481        -0.186716  \n",
      "4                      0.201493        -0.988289  \n",
      "5                      0.047539        -0.948561  \n",
      "6                     -0.462939         2.484949  \n",
      "7                     -1.265119         0.035549  \n",
      "8                     -1.362353        -0.682688  \n",
      "9                      1.716722         0.401631  \n",
      "y2 data = \n",
      "       Price\n",
      "0 -0.490032\n",
      "1  0.775431\n",
      "2 -0.490162\n",
      "3  0.080835\n",
      "4 -1.702348\n",
      "5 -0.464249\n",
      "6  0.764570\n",
      "7  0.968130\n",
      "8 -1.226796\n",
      "9  0.886623\n"
     ]
    }
   ],
   "source": [
    "cols = data2.shape[1]\n",
    "X2 = data2.iloc[:,0:cols-1]\n",
    "y2 = data2.iloc[:,cols-1:cols]\n",
    "print('X2 data = \\n' ,X2.head(10) )\n",
    "print('y2 data = \\n' ,y2.head(10) )\n",
    "\n"
   ]
  },
  {
   "cell_type": "code",
   "execution_count": 15,
   "metadata": {},
   "outputs": [],
   "source": [
    "X2 = np.matrix(X2.values)\n",
    "y2 = np.matrix(y2.values)\n",
    "theta2 = np.matrix(np.array([0,0,0,0,0,0]))\n",
    "\n"
   ]
  },
  {
   "cell_type": "code",
   "execution_count": 19,
   "metadata": {},
   "outputs": [],
   "source": [
    "alpha = 0.1\n",
    "iters = 100"
   ]
  },
  {
   "cell_type": "code",
   "execution_count": 23,
   "metadata": {},
   "outputs": [],
   "source": [
    "g2, cost2 = gradientDescent(X2, y2, theta2, alpha, iters)"
   ]
  },
  {
   "cell_type": "code",
   "execution_count": 24,
   "metadata": {},
   "outputs": [
    {
     "name": "stdout",
     "output_type": "stream",
     "text": [
      "g2 =  [[3.29123395e-16 6.51211657e-01 4.65022892e-01 3.42933597e-01\n",
      "  6.52998512e-03 4.27290742e-01]]\n",
      "cost2  =  [0.41241631 0.3420354  0.28532447 0.2395602  0.20257722 0.17265017\n",
      " 0.14840153 0.12872945 0.11275096 0.09975737 0.08917896 0.08055706\n",
      " 0.0735219  0.06777501 0.06307516 0.05922716 0.05607292 0.05348424\n",
      " 0.05135708 0.04960691 0.04816501 0.04697542 0.04599257 0.04517932\n",
      " 0.04450533 0.04394584 0.0434806  0.04309304 0.0427696  0.04249915\n",
      " 0.04227255 0.04208231 0.04192225 0.04178729 0.04167325 0.04157667\n",
      " 0.04149468 0.04142492 0.04136544 0.04131459 0.04127103 0.04123362\n",
      " 0.04120143 0.04117366 0.04114966 0.04112886 0.04111081 0.04109511\n",
      " 0.04108143 0.04106949]\n",
      "computeCost =  0.040980203015631114\n",
      "**************************************\n"
     ]
    }
   ],
   "source": [
    "thiscost = computeCost(X2, y2, g2)\n",
    "\n",
    "\n",
    "print('g2 = ' , g2)\n",
    "print('cost2  = ' , cost2[0:50] )\n",
    "print('computeCost = ' , thiscost)\n",
    "print('**************************************')\n"
   ]
  }
 ],
 "metadata": {
  "kernelspec": {
   "display_name": "Python 3.9.13 64-bit (microsoft store)",
   "language": "python",
   "name": "python3"
  },
  "language_info": {
   "codemirror_mode": {
    "name": "ipython",
    "version": 3
   },
   "file_extension": ".py",
   "mimetype": "text/x-python",
   "name": "python",
   "nbconvert_exporter": "python",
   "pygments_lexer": "ipython3",
   "version": "3.9.13"
  },
  "orig_nbformat": 4,
  "vscode": {
   "interpreter": {
    "hash": "6f8ff5869055e1439936a58c3b27c4a48fd6fa94015ea55acdb785b9c76781b4"
   }
  }
 },
 "nbformat": 4,
 "nbformat_minor": 2
}
