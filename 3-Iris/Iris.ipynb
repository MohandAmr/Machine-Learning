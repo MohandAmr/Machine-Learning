{
 "cells": [
  {
   "cell_type": "markdown",
   "metadata": {},
   "source": [
    "# <div style=\"text-align: center; background-color: #0C6A86; font-family:newtimeroman; color: white; padding: 10px; line-height: 1;border-radius:20px\"><p>Mohand Amr Mostafa 20200566 </p> <p>Abdelrahman Tarek Ali 20200315</p><p>Afraa Hassan Salem 20200872</p></div>"
   ]
  },
  {
   "cell_type": "markdown",
   "metadata": {},
   "source": [
    "<h3 style=\"text-align: left;background-color: #128EB3; font-family:newtimeroman; color: white; padding: 14px; line-height: 1; border-radius:10px\">🔍Searching Part</h3>"
   ]
  },
  {
   "cell_type": "markdown",
   "metadata": {},
   "source": [
    "* [Import Packages and Define Useful Functions](#1)\n",
    "* [Run it on iris built in dataset](#2)\n",
    "* [Implement from scratch function: train_validate_test_split ](#3)\n",
    "* [Draw decision boundaries](#4)\n",
    "* [Implement function: calculate_accuracy(predicted_y , y)](#5)\n"
   ]
  },
  {
   "cell_type": "markdown",
   "metadata": {},
   "source": [
    "<a id=\"1\"></a>\n",
    "# <div style=\"text-align: lefta; background-color: #128EB3; font-family:newtimeroman; color: white; padding: 14px; line-height: 1;border-radius:20px\">1. Import Necessary Libraries</div>"
   ]
  },
  {
   "cell_type": "code",
   "execution_count": 21,
   "metadata": {},
   "outputs": [],
   "source": [
    "import numpy as np \n",
    "from sklearn.datasets import load_iris\n",
    "from sklearn.naive_bayes import GaussianNB\n",
    "from mlxtend.plotting import plot_decision_regions\n",
    "from sklearn.svm import SVC\n",
    "from sklearn.decomposition import PCA"
   ]
  },
  {
   "cell_type": "markdown",
   "metadata": {},
   "source": [
    "<a id=\"2\"></a>\n",
    "# <div style=\"text-align: lefta; background-color: #128EB3; font-family:newtimeroman; color: white; padding: 14px; line-height: 1;border-radius:20px\">2.Run it on iris built in dataset</div>"
   ]
  },
  {
   "cell_type": "code",
   "execution_count": 2,
   "metadata": {},
   "outputs": [],
   "source": [
    "iris_data=load_iris()\n",
    "X = iris_data.data\n",
    "Y= iris_data.target"
   ]
  },
  {
   "cell_type": "markdown",
   "metadata": {},
   "source": [
    "<a id=\"3\"></a>\n",
    "# <div style=\"text-align: lefta; background-color: #128EB3; font-family:newtimeroman; color: white; padding: 14px; line-height: 1;border-radius:20px\">3-Implement from scratch function: train_validate_test_split \n",
    "</div>"
   ]
  },
  {
   "cell_type": "code",
   "execution_count": 10,
   "metadata": {},
   "outputs": [],
   "source": [
    "def train_validate_test_split(X, y, ratio_test, ratio_val):\n",
    "    idx = np.arange(X.shape[0])\n",
    "    np.random.shuffle(idx)\n",
    "\n",
    "    limit_train = int(X.shape[0]-(ratio_test+ratio_val)* X.shape[0])\n",
    "    limit_val = int(ratio_val* X.shape[0]+limit_train)\n",
    "\n",
    "    idx_train = idx[:limit_train]\n",
    "    idx_val = idx[limit_train:limit_val]\n",
    "    idx_test = idx[limit_val:]\n",
    "\n",
    "    X_train, y_train = X[idx_train], y[idx_train]\n",
    "    X_val, y_val = X[idx_val], y[idx_val]\n",
    "    X_test, y_test = X[idx_test], y[idx_test]\n",
    "\n",
    "    return X_train, X_val, X_test, y_train, y_val, y_test\n",
    "\n",
    "X_train, X_val, X_test, y_train, y_val, y_test =train_validate_test_split(X, Y, 0.3, 0.3)"
   ]
  },
  {
   "cell_type": "code",
   "execution_count": 11,
   "metadata": {},
   "outputs": [
    {
     "name": "stdout",
     "output_type": "stream",
     "text": [
      "60\n",
      "60\n",
      "45\n",
      "45\n",
      "45\n",
      "45\n"
     ]
    }
   ],
   "source": [
    "print (X_train.shape[0])\n",
    "print (y_train.shape[0])\n",
    "print (X_test.shape[0])\n",
    "print (y_test.shape[0])\n",
    "print (X_val.shape[0])\n",
    "print (y_val.shape[0])\n"
   ]
  },
  {
   "cell_type": "markdown",
   "metadata": {},
   "source": [
    "<a id=\"4\"></a>\n",
    "# <div style=\"text-align: lefta; background-color: #128EB3; font-family:newtimeroman; color: white; padding: 14px; line-height: 1;border-radius:20px\">4-Draw decision boundaries \n",
    "</div>"
   ]
  },
  {
   "cell_type": "code",
   "execution_count": 22,
   "metadata": {},
   "outputs": [
    {
     "data": {
      "text/plain": [
       "<AxesSubplot: >"
      ]
     },
     "execution_count": 22,
     "metadata": {},
     "output_type": "execute_result"
    },
    {
     "data": {
      "image/png": "[encoded data removed]",
      "text/plain": [
       "<Figure size 432x288 with 1 Axes>"
      ]
     },
     "metadata": {
      "needs_background": "light"
     },
     "output_type": "display_data"
    }
   ],
   "source": [
    "SVM = SVC(kernel=\"rbf\")\n",
    "SVM = SVC(kernel=\"poly\", C=100, gamma=0.0001)\n",
    "SVM.fit(X_train, y_train)\n",
    "SVM = SVC(C=100,gamma=0.0001)\n",
    "pca = PCA(n_components = 2)\n",
    "X_train2 = pca.fit_transform(X_train)\n",
    "SVM.fit(X_train2, y_train)\n",
    "plot_decision_regions(X_train2, y_train, clf=SVM, legend=2, )"
   ]
  },
  {
   "cell_type": "markdown",
   "metadata": {},
   "source": [
    "<a id=\"5\"></a>\n",
    "# <div style=\"text-align: lefta; background-color: #128EB3; font-family:newtimeroman; color: white; padding: 14px; line-height: 1;border-radius:20px\">5-Implement function: calculate_accuracy(predicted_y , y)\n",
    " \n",
    " \n",
    "</div>"
   ]
  },
  {
   "cell_type": "code",
   "execution_count": 35,
   "metadata": {},
   "outputs": [],
   "source": [
    "X_train, X_val, X_test, y_train, y_val, y_test =train_validate_test_split(X, Y, 0.4, 0.3)\n",
    "GaussianNBModel = GaussianNB()\n",
    "\n",
    "GaussianNBModel.fit(X_train, y_train)\n",
    "y_predicted=GaussianNBModel.predict(X_test)\n",
    "yval_predicted=GaussianNBModel.predict(X_val)"
   ]
  },
  {
   "cell_type": "code",
   "execution_count": 36,
   "metadata": {},
   "outputs": [],
   "source": [
    "def accuracy(actual, predicted):\n",
    "\tcorrect = 0\n",
    "\tfor i in range(len(actual)):\n",
    "\t\tif actual[i] == predicted[i]:\n",
    "\t\t\tcorrect += 1\n",
    "\treturn correct / float(len(actual)) * 100.0"
   ]
  },
  {
   "cell_type": "code",
   "execution_count": 37,
   "metadata": {},
   "outputs": [
    {
     "data": {
      "text/plain": [
       "91.66666666666666"
      ]
     },
     "execution_count": 37,
     "metadata": {},
     "output_type": "execute_result"
    }
   ],
   "source": [
    "accuracy= accuracy(y_test,y_predicted)\n",
    "accuracy"
   ]
  },
  {
   "cell_type": "code",
   "execution_count": null,
   "metadata": {},
   "outputs": [],
   "source": []
  }
 ],
 "metadata": {
  "kernelspec": {
   "display_name": "Python 3.9.13 64-bit (microsoft store)",
   "language": "python",
   "name": "python3"
  },
  "language_info": {
   "codemirror_mode": {
    "name": "ipython",
    "version": 3
   },
   "file_extension": ".py",
   "mimetype": "text/x-python",
   "name": "python",
   "nbconvert_exporter": "python",
   "pygments_lexer": "ipython3",
   "version": "3.9.13"
  },
  "orig_nbformat": 4,
  "vscode": {
   "interpreter": {
    "hash": "6f8ff5869055e1439936a58c3b27c4a48fd6fa94015ea55acdb785b9c76781b4"
   }
  }
 },
 "nbformat": 4,
 "nbformat_minor": 2
}
